{
 "cells": [
  {
   "cell_type": "markdown",
   "metadata": {},
   "source": [
    "# **Gemini**"
   ]
  },
  {
   "cell_type": "code",
   "execution_count": 1,
   "metadata": {},
   "outputs": [],
   "source": [
    "import pathlib\n",
    "import textwrap\n",
    "\n",
    "import google.generativeai as googleai\n",
    "from dotenv import load_dotenv\n",
    "from IPython.display import display\n",
    "from IPython.display import Markdown\n",
    "import os\n",
    "\n",
    "_ = load_dotenv()\n",
    "\n"
   ]
  },
  {
   "cell_type": "markdown",
   "metadata": {},
   "source": [
    "### Initial google implementtion to test your API key"
   ]
  },
  {
   "cell_type": "code",
   "execution_count": 2,
   "metadata": {},
   "outputs": [],
   "source": [
    "def to_markdown(text):\n",
    "    text = text.replace(\"•\", \"  *\")\n",
    "    return Markdown(textwrap.indent(text, \"> \", predicate=lambda _: True))\n",
    "\n",
    "\n",
    "google_api = os.getenv(\"GOOGLE_API_KEY\")\n",
    "googleai.configure(api_key=google_api)"
   ]
  },
  {
   "cell_type": "code",
   "execution_count": 3,
   "metadata": {},
   "outputs": [
    {
     "name": "stdout",
     "output_type": "stream",
     "text": [
      "models/gemini-pro\n",
      "models/gemini-pro-vision\n"
     ]
    }
   ],
   "source": [
    "for m in googleai.list_models():\n",
    "    if \"generateContent\" in m.supported_generation_methods:\n",
    "        print(m.name)"
   ]
  },
  {
   "cell_type": "code",
   "execution_count": 4,
   "metadata": {},
   "outputs": [
    {
     "data": {
      "text/plain": [
       " genai.GenerativeModel(\n",
       "   model_name='models/gemini-pro',\n",
       "   generation_config={}.\n",
       "   safety_settings={}\n",
       ")"
      ]
     },
     "execution_count": 4,
     "metadata": {},
     "output_type": "execute_result"
    }
   ],
   "source": [
    "model = googleai.GenerativeModel(\"gemini-pro\")\n",
    "model"
   ]
  },
  {
   "cell_type": "code",
   "execution_count": 30,
   "metadata": {},
   "outputs": [],
   "source": [
    "response = model.generate_content(\n",
    "\"\"\"\n",
    "\n",
    "\"\"\"\n",
    ")"
   ]
  },
  {
   "cell_type": "code",
   "execution_count": 31,
   "metadata": {},
   "outputs": [
    {
     "data": {
      "text/markdown": [
       "> Using slicing and reverse to compare two strings:\n",
       "> \n",
       "> ```python\n",
       "> def is_palindrome(string):\n",
       ">   # Convert the string to lowercase and remove all spaces.\n",
       ">   string = string.lower().replace(\" \", \"\")\n",
       "> \n",
       ">   # Reverse the string.\n",
       ">   reversed_string = string[::-1]\n",
       "> \n",
       ">   # Compare the original string with the reversed string.\n",
       ">   return string == reversed_string\n",
       "> \n",
       "> \n",
       "> # Get the input string from the user.\n",
       "> string = input(\"Enter a string: \")\n",
       "> \n",
       "> # Check if the string is a palindrome.\n",
       "> if is_palindrome(string):\n",
       ">   print(\"The string is a palindrome.\")\n",
       "> else:\n",
       ">   print(\"The string is not a palindrome.\")\n",
       "> ```"
      ],
      "text/plain": [
       "<IPython.core.display.Markdown object>"
      ]
     },
     "execution_count": 31,
     "metadata": {},
     "output_type": "execute_result"
    }
   ],
   "source": [
    "to_markdown(response.text)"
   ]
  },
  {
   "cell_type": "markdown",
   "metadata": {},
   "source": [
    "- If you want to know the feedback of your last call the you can run response.prompt_feedback"
   ]
  },
  {
   "cell_type": "code",
   "execution_count": 7,
   "metadata": {},
   "outputs": [
    {
     "data": {
      "text/plain": [
       "safety_ratings {\n",
       "  category: HARM_CATEGORY_SEXUALLY_EXPLICIT\n",
       "  probability: NEGLIGIBLE\n",
       "}\n",
       "safety_ratings {\n",
       "  category: HARM_CATEGORY_HATE_SPEECH\n",
       "  probability: NEGLIGIBLE\n",
       "}\n",
       "safety_ratings {\n",
       "  category: HARM_CATEGORY_HARASSMENT\n",
       "  probability: NEGLIGIBLE\n",
       "}\n",
       "safety_ratings {\n",
       "  category: HARM_CATEGORY_DANGEROUS_CONTENT\n",
       "  probability: NEGLIGIBLE\n",
       "}"
      ]
     },
     "execution_count": 7,
     "metadata": {},
     "output_type": "execute_result"
    }
   ],
   "source": [
    "response.prompt_feedback"
   ]
  },
  {
   "cell_type": "code",
   "execution_count": 10,
   "metadata": {},
   "outputs": [
    {
     "data": {
      "text/plain": [
       "[index: 0\n",
       "content {\n",
       "  parts {\n",
       "    text: \"As a large language model, I have a wide range of capabilities and can perform various tasks effectively. Here\\'s an overview of some of the things I can do:\\n\\n1. **Language Processing:**\\n   - Natural Language Understanding (NLU): I can comprehend and analyze human language.\\n   - Text Summarization: I can condense large text into concise and informative summaries.\\n   - Machine Translation: I can translate text between different languages accurately.\\n   - Sentiment Analysis: I can determine the sentiment or emotion expressed in text data.\\n   - Text Generation: I can generate human-like text, including stories, articles, and marketing copy.\\n\\n2. **Information Retrieval:**\\n   - Search Engine: I can retrieve relevant information from a vast amount of data based on user queries.\\n   - Question Answering: I can answer factual questions by extracting information from various sources.\\n\\n3. **Conversational AI:**\\n   - Chatbot: I can act as a chatbot, engaging in natural conversations with humans.\\n   - Dialogue Generation: I can generate realistic dialogues between multiple participants.\\n\\n4. **Knowledge Management:**\\n   - Knowledge Graph: I can organize and represent knowledge in the form of interconnected concepts and entities.\\n   - Knowledge Base Construction: I can help build and maintain repositories of structured knowledge.\\n\\n5. **Machine Learning:**\\n   - Data Analysis: I can analyze large datasets, identify patterns, and extract insights.\\n   - Model Training: I can train machine learning models on various tasks, such as classification, regression, and natural language processing.\\n   - Hyperparameter Tuning: I can optimize the parameters of machine learning models for better performance.\\n\\n6. **Creative Generation:**\\n   - Poetry Generation: I can write original poems in various styles.\\n   - Art and Image Generation: I can generate unique images and artworks.\\n   - Music Composition: I can compose original music pieces in different genres.\\n\\n7. **Code Generation:**\\n   - Programming Assistance: I can help with coding by generating code snippets, debugging errors, and suggesting improvements.\\n   - Code Translation: I can translate code from one programming language to another.\\n\\nThese are just a few examples of my capabilities. I\\'m constantly learning and improving, expanding my abilities to perform even more tasks and deliver valuable results.\\n\\nPlease note that my responses and capabilities are limited by the knowledge and data available to me up until a certain point in time. I\\'m continuously learning and updating my knowledge base. However, if you have any specific questions or requests, feel free to ask. I\\'ll do my best to assist you.\"\n",
       "  }\n",
       "  role: \"model\"\n",
       "}\n",
       "finish_reason: STOP\n",
       "safety_ratings {\n",
       "  category: HARM_CATEGORY_SEXUALLY_EXPLICIT\n",
       "  probability: NEGLIGIBLE\n",
       "}\n",
       "safety_ratings {\n",
       "  category: HARM_CATEGORY_HATE_SPEECH\n",
       "  probability: NEGLIGIBLE\n",
       "}\n",
       "safety_ratings {\n",
       "  category: HARM_CATEGORY_HARASSMENT\n",
       "  probability: NEGLIGIBLE\n",
       "}\n",
       "safety_ratings {\n",
       "  category: HARM_CATEGORY_DANGEROUS_CONTENT\n",
       "  probability: NEGLIGIBLE\n",
       "}\n",
       "]"
      ]
     },
     "execution_count": 10,
     "metadata": {},
     "output_type": "execute_result"
    }
   ],
   "source": [
    "response.candidates"
   ]
  },
  {
   "cell_type": "markdown",
   "metadata": {},
   "source": [
    "- If you want to stream your output"
   ]
  },
  {
   "cell_type": "code",
   "execution_count": 8,
   "metadata": {},
   "outputs": [],
   "source": [
    "response = model.generate_content(\"hi, what can you do\", stream=True)"
   ]
  },
  {
   "cell_type": "code",
   "execution_count": 9,
   "metadata": {},
   "outputs": [
    {
     "name": "stdout",
     "output_type": "stream",
     "text": [
      "As a large language model, I have a wide range of capabilities and can assist\n",
      " you with various tasks. Here are some of the things I can do:\n",
      "\n",
      "1. **Language Processing:**\n",
      "    - **Text Generation:** I can generate\n",
      " text in different styles, including creative writing, articles, stories, and more.\n",
      "    - **Language Translation:** I can translate text between over 100 languages.\n",
      "    - **Summarization:** I can summarize long texts, articles, or documents into concise summaries.\n",
      "    - **Q&A:**\n",
      " I can answer your questions on various topics, ranging from general knowledge to specific subjects.\n",
      "\n",
      "2. **Information Retrieval:**\n",
      "    - **Web Search:** I can search the internet for information on any topic and provide relevant results.\n",
      "    - **Document Retrieval:** I can access and retrieve documents, files, or data from various sources, including online databases and repositories.\n",
      "    - **Fact Checking:** I can verify and validate facts and claims by checking multiple reliable sources.\n",
      "\n",
      "3. **Data Analysis:**\n",
      "    - **Data Manipulation:** I can clean, organize, and manipulate data to make it more usable and insightful.\n",
      "    \n",
      "- **Statistical Analysis:** I can perform statistical analyses, including descriptive statistics, hypothesis testing, and regression analysis.\n",
      "    - **Data Visualization:** I can create charts, graphs, and visualizations to help you understand data trends and patterns better.\n",
      "\n",
      "4. **Predictive Analytics:**\n",
      "    - **Machine Learning:** I can train machine learning models using various algorithms to make predictions and classifications.\n",
      "    - **Time Series Forecasting:** I can analyze historical data to predict future trends and patterns.\n",
      "\n",
      "5. **Natural Language Processing:**\n",
      "    - **Sentiment Analysis:** I can analyze the sentiment (positive, negative, or neutral) expressed in text data.\n",
      "    - **Entity Recognition:** I can identify and extract specific entities, such as names, places, or organizations, from text data.\n",
      "    - **Keyword Extraction:** I can identify important keywords and phrases from text data.\n",
      "\n",
      "6. **Creative Content:**\n",
      "    - **Story Writing:** I can generate creative stories and narratives based on your prompts or ideas.\n",
      "    - **Poetry Generation:** I can create poems in different styles and forms.\n",
      "    - **Song Lyrics Writing:** I can write song lyrics that rhyme and follow a specific rhythm.\n",
      "\n",
      "7. **Education and Learning:**\n",
      "    - **Question\n",
      " Answering:** I can answer questions on various subjects, helping you learn and expand your knowledge.\n",
      "    - **Explanation Generation:** I can provide explanations and clarifications on complex topics or concepts.\n",
      "    - **Lesson Planning:** I can help you create lesson plans and educational materials.\n",
      "\n",
      "8. **Code Generation:**\n",
      "    - **Programming:** I can generate code in multiple programming languages based on your requirements.\n",
      "    - **Bug Fixing:** I can analyze code and identify potential bugs or errors, suggesting fixes or improvements.\n",
      "\n",
      "9. **Communication:**\n",
      "    - **Language Translation:** I can translate text between over 100 languages, including spoken conversations.\n",
      "    - **Summarization:** I can summarize long conversations, meetings, or discussions, highlighting key points.\n",
      "    - **Report Generation:** I can generate reports based on data analysis, research, or any other relevant information.\n",
      "\n",
      "10. **Personal Assistance:**\n",
      "    - **Scheduling:** I can help you schedule appointments, meetings, or events.\n",
      "    - **Reminder Setting:** I can set reminders for tasks, deadlines, or important occasions.\n",
      "    - **Note-Taking:** I can take notes during meetings, conversations, or presentations.\n",
      "\n",
      "These are just a few examples of what I can do. I am continuously learning and expanding my capabilities, aiming to provide comprehensive and valuable assistance to users.\n",
      "\n",
      "Is there anything specific you would like to ask me?\n"
     ]
    }
   ],
   "source": [
    "for chunk in response:\n",
    "    print(chunk.text)\n"
   ]
  },
  {
   "cell_type": "code",
   "execution_count": null,
   "metadata": {},
   "outputs": [],
   "source": []
  }
 ],
 "metadata": {
  "kernelspec": {
   "display_name": "genai",
   "language": "python",
   "name": "python3"
  },
  "language_info": {
   "codemirror_mode": {
    "name": "ipython",
    "version": 3
   },
   "file_extension": ".py",
   "mimetype": "text/x-python",
   "name": "python",
   "nbconvert_exporter": "python",
   "pygments_lexer": "ipython3",
   "version": "3.11.7"
  }
 },
 "nbformat": 4,
 "nbformat_minor": 2
}
