{
 "cells": [
  {
   "cell_type": "code",
   "execution_count": 1,
   "metadata": {},
   "outputs": [
    {
     "name": "stdout",
     "output_type": "stream",
     "text": [
      "Note: you may need to restart the kernel to use updated packages.\n"
     ]
    }
   ],
   "source": [
    "# %pip install --upgrade --quiet  langchain-google-genai"
   ]
  },
  {
   "cell_type": "code",
   "execution_count": 1,
   "metadata": {},
   "outputs": [],
   "source": [
    "import pathlib\n",
    "import textwrap\n",
    "from langchain_google_genai import GoogleGenerativeAI\n",
    "\n",
    "import google.generativeai as googleai\n",
    "from dotenv import load_dotenv\n",
    "from IPython.display import display\n",
    "from IPython.display import Markdown\n",
    "import os\n",
    "\n",
    "_ = load_dotenv()"
   ]
  },
  {
   "cell_type": "code",
   "execution_count": 3,
   "metadata": {},
   "outputs": [],
   "source": [
    "def to_markdown(text):\n",
    "    text = text.replace(\"•\", \"  *\")\n",
    "    return Markdown(textwrap.indent(text, \"> \", predicate=lambda _: True))\n",
    "\n",
    "\n",
    "api_key = os.getenv(\"GOOGLE_API_KEY\")\n",
    "# googleai.configure(api_key=google_api)"
   ]
  },
  {
   "cell_type": "code",
   "execution_count": 4,
   "metadata": {},
   "outputs": [],
   "source": [
    "llm = GoogleGenerativeAI(model=\"models/text-bison-001\", google_api_key=api_key)"
   ]
  },
  {
   "cell_type": "code",
   "execution_count": 5,
   "metadata": {},
   "outputs": [],
   "source": [
    "response = llm.invoke(\n",
    "    \"What are some of the pros and cons of Python as a programming language?\"\n",
    ")"
   ]
  },
  {
   "cell_type": "code",
   "execution_count": 7,
   "metadata": {},
   "outputs": [
    {
     "data": {
      "text/markdown": [
       "> **Pros of Python**\n",
       "> \n",
       "> * **Easy to learn:** Python is a very easy language to learn, even for beginners. It has a simple syntax and is very readable, making it easy to understand what the code is doing.\n",
       "> * **Versatile:** Python is a very versatile language that can be used for a wide variety of tasks, including web development, data science, and machine learning.\n",
       "> * **Open-source:** Python is an open-source language, which means that it is free to use and modify. This makes it a great option for developers who want to be able to control the code that they are using.\n",
       "> * **Large community:** Python has a large and active community of developers who are constantly creating new libraries and tools. This makes it easy to find help and resources when you are learning or using Python.\n",
       "> \n",
       "> **Cons of Python**\n",
       "> \n",
       "> * **Slow:** Python is not as fast as some other programming languages, such as C++ or Java. This can be a problem for applications that require a lot of processing power.\n",
       "> * **Not as performant:** Python is not as performant as some other programming languages, such as C++ or Java. This can be a problem for applications that require a lot of speed.\n",
       "> * **Dynamic typing:** Python is a dynamically typed language, which means that the type of a variable is not checked until it is assigned a value. This can lead to errors if the type of a variable is not explicitly specified.\n",
       "> \n",
       "> Overall, Python is a very good programming language for beginners and experienced developers alike. It is easy to learn, versatile, and has a large community of support. However, it is not as fast or performant as some other programming languages."
      ],
      "text/plain": [
       "<IPython.core.display.Markdown object>"
      ]
     },
     "execution_count": 7,
     "metadata": {},
     "output_type": "execute_result"
    }
   ],
   "source": [
    "to_markdown(response)"
   ]
  },
  {
   "cell_type": "markdown",
   "metadata": {},
   "source": [
    "## Creating chain usign Gemini"
   ]
  },
  {
   "cell_type": "code",
   "execution_count": null,
   "metadata": {},
   "outputs": [],
   "source": []
  }
 ],
 "metadata": {
  "kernelspec": {
   "display_name": "genai",
   "language": "python",
   "name": "python3"
  },
  "language_info": {
   "codemirror_mode": {
    "name": "ipython",
    "version": 3
   },
   "file_extension": ".py",
   "mimetype": "text/x-python",
   "name": "python",
   "nbconvert_exporter": "python",
   "pygments_lexer": "ipython3",
   "version": "3.11.7"
  }
 },
 "nbformat": 4,
 "nbformat_minor": 2
}
